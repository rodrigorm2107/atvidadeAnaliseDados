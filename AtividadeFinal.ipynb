{
 "cells": [
  {
   "cell_type": "code",
   "execution_count": null,
   "metadata": {},
   "outputs": [],
   "source": [
    "#Quantos documentos possui a coleção minas?\n",
    "minas.count_documents({})\n",
    "\n",
    "#Mostre os 5 primeiros documentos da coleção.\n",
    "list(minas.find().limit(5))\n",
    "\n",
    "#Selecione o documento que possui o maior número de solicitações QtdeSolic na Anatel.\n",
    "minas.find_one(sort=[(\"QtdeSolic\",\"pymongo.DESCENDING\")])\n",
    "                      \n",
    "#Qual é o menor número de solicitações QtdeSolic na Anatel?  \n",
    "valorMinimo = minas.aggregate(\"$group\":\"_id\": \"$_id\",\"minQtdeSolic\": { \"$min\": {\"$toInt\":\"$QtdeSolic\"} },\"$limit\" : 1 },\n",
    "list(valorMinimo)\n",
    "                              \n",
    "#Mostre todos os documentos com o menor número de solicitações QtdeSolic na Anatel.\n",
    "minimo = db.minas.find_one(sort=[(\"QtdeSolic\", 1)])\n",
    "valor = minimo['QtdeSolic']\n",
    "list(db.minas.find({ \"QtdeSolic\": valor }))\n",
    "                              \n",
    "#Mostre as contagens de solicitações QtdeSolic por tipo de serviço Servico, em ordem decrescente pelas contagens  \n",
    "list(\"minas.aggregate\",\"$group\":\"Tipo\":{\"$distinct\":\"$Tipo\"})\n",
    "                              \n",
    "#Mostre todos os documentos com atributo Tipo igual a \"Reclamação\".\n",
    "list(minas.find(\"Tipo\":\"Reclamação\"))          \n",
    "                 \n",
    "#Quais diferentes valores encontramos em Tipo?\n",
    "minas.distinct(\"Tipo\")"
   ]
  }
 ],
 "metadata": {
  "kernelspec": {
   "display_name": "Python 3",
   "language": "python",
   "name": "python3"
  },
  "language_info": {
   "codemirror_mode": {
    "name": "ipython",
    "version": 3
   },
   "file_extension": ".py",
   "mimetype": "text/x-python",
   "name": "python",
   "nbconvert_exporter": "python",
   "pygments_lexer": "ipython3",
   "version": "3.6.11"
  }
 },
 "nbformat": 4,
 "nbformat_minor": 4
}
